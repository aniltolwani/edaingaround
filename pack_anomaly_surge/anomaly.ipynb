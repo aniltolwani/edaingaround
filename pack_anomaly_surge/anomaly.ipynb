{
 "cells": [
  {
   "cell_type": "markdown",
   "id": "793c556b",
   "metadata": {},
   "source": [
    "# Pack: anomaly_surge\n",
    "\n",
    "**Goal:** Practice robust JSON loading (invalid lines, BOM, control chars), normalization, and targeted plots.\n",
    "\n",
    "## Closed-ended tasks\n",
    "1) Build a tolerant loader. Report `rows_parsed` and `error_counts` (with keys: truncated, jsonerror, control_char, bom).\n",
    "2) Normalize: coerce `rating` to 1..5 ints when possible; `text` to string; keep a count of `empty_text_count`.\n",
    "3) Compute `p95_text_length` and a `rating_hist` dict (1..5).\n",
    "4) Plots: save `length_hist.html` (hist of text lengths) and `rating_bar.html`.\n",
    "\n",
    "## Output (result.json)\n",
    "```\n",
    "{\n",
    "  \"rows_parsed\": int,\n",
    "  \"error_counts\": {\"truncated\": int, \"jsonerror\": int, \"control_char\": int, \"bom\": int},\n",
    "  \"rating_hist\": {\"1\": int, \"2\": int, \"3\": int, \"4\": int, \"5\": int},\n",
    "  \"p95_text_length\": int,\n",
    "  \"empty_text_count\": int\n",
    "}\n",
    "```\n",
    "```\n",
    "{\n",
    "  \"rows_parsed\": 0,\n",
    "  \"error_counts\": {\n",
    "    \"truncated\": 0,\n",
    "    \"jsonerror\": 0,\n",
    "    \"control_char\": 0,\n",
    "    \"bom\": 0\n",
    "  },\n",
    "  \"rating_hist\": {\n",
    "    \"1\": 0,\n",
    "    \"2\": 0,\n",
    "    \"3\": 0,\n",
    "    \"4\": 0,\n",
    "    \"5\": 0\n",
    "  },\n",
    "  \"p95_text_length\": 0,\n",
    "  \"empty_text_count\": 0\n",
    "}\n",
    "```"
   ]
  },
  {
   "cell_type": "markdown",
   "id": "5ce0133c",
   "metadata": {},
   "source": []
  },
  {
   "cell_type": "code",
   "execution_count": 30,
   "id": "1c596a73",
   "metadata": {},
   "outputs": [
    {
     "data": {
      "text/plain": [
       "{'.gz', '.json', '.jsonl'}"
      ]
     },
     "execution_count": 30,
     "metadata": {},
     "output_type": "execute_result"
    }
   ],
   "source": [
    "from pathlib import Path\n",
    "\n",
    "files = list(Path('./').rglob('an*json*'))\n",
    "set([f.suffix for f in files])"
   ]
  },
  {
   "cell_type": "code",
   "execution_count": 155,
   "id": "af1d128c",
   "metadata": {},
   "outputs": [
    {
     "data": {
      "text/plain": [
       "1266"
      ]
     },
     "execution_count": 155,
     "metadata": {},
     "output_type": "execute_result"
    }
   ],
   "source": [
    "import gzip\n",
    "import json\n",
    "from json import JSONDecodeError\n",
    "\n",
    "control_nums = list(range(32))\n",
    "ok_chars = [\"\\t\", \"\\n\",\"\\r\"]\n",
    "ok_nums = [ord(c) for c in ok_chars]\n",
    "control_nums = list(set(control_nums) - set(ok_nums))\n",
    "control_chars = [chr(a) for a in control_nums]\n",
    "\n",
    "def parse_remove_control_characters(content):\n",
    "    is_control = False\n",
    "    char_hits = [char for char in control_chars if char in content]\n",
    "    if char_hits:\n",
    "        is_control = True\n",
    "        for char in char_hits:\n",
    "            content = content.replace(char, \"\")\n",
    "    return content, is_control\n",
    "\n",
    "records = []\n",
    "rows_parsed = 0 \n",
    "error_counts = {\n",
    "    \"truncated\": 0,\n",
    "    \"jsonerror\": 0,\n",
    "    \"control_char\": 0,\n",
    "    \"bom\": 0,\n",
    "}\n",
    "\n",
    "for file in files:\n",
    "    if file.suffix == \".gz\":\n",
    "        opener = gzip.open(file, \"rt\")\n",
    "    else:\n",
    "        opener = open(file, \"rt\")\n",
    "    with opener as f:\n",
    "        content = f.read()\n",
    "\n",
    "    # check for BOM or control character\n",
    "    if content.startswith(\"\\ufeff\"):\n",
    "        error_counts[\"bom\"] += 1\n",
    "        # move the cursor so that we can still read it properly\n",
    "        # is this even an error?\n",
    "        # 4 hex values -> how many bytes?\n",
    "        content = content[1:]\n",
    "    # remove control characters\n",
    "\n",
    "    content, is_control = parse_remove_control_characters(content)\n",
    "    if is_control:\n",
    "        error_counts[\"control_char\"] += 1\n",
    "    \n",
    "    # try a json parse\n",
    "    try:\n",
    "        obj = json.loads(content)\n",
    "        # load it in \n",
    "        if isinstance(obj, list):\n",
    "            records.extend(obj)\n",
    "        elif isinstance(obj, dict):\n",
    "            records.append(obj)\n",
    "        else:\n",
    "            print(\"unintended: obj is \", obj)\n",
    "        continue\n",
    "    except JSONDecodeError:\n",
    "        # print(\"passing on file\", file)\n",
    "        pass\n",
    "\n",
    "    # try jsonl if that didn't work\n",
    "    for line in content.splitlines():\n",
    "        if line.strip():\n",
    "            try:\n",
    "                obj = json.loads(line)\n",
    "                records.extend(obj if isinstance(obj,list) else [obj])\n",
    "            except JSONDecodeError:\n",
    "                error_counts[\"jsonerror\"] += 1\n",
    "                # print(obj, line)\n",
    "                # print('weird!', file)\n",
    "    \n",
    "len(records)\n"
   ]
  },
  {
   "cell_type": "code",
   "execution_count": 97,
   "id": "591b7da4",
   "metadata": {},
   "outputs": [
    {
     "data": {
      "text/plain": [
       "rating\n",
       "1      144\n",
       "6      138\n",
       "bad    134\n",
       "4      133\n",
       "5      128\n",
       "0      125\n",
       "3      122\n",
       "5      116\n",
       "2      103\n",
       "Name: count, dtype: int64"
      ]
     },
     "execution_count": 97,
     "metadata": {},
     "output_type": "execute_result"
    }
   ],
   "source": [
    "import pandas as pd\n",
    "df = pd.DataFrame(records)\n",
    "df.rating.value_counts()"
   ]
  },
  {
   "cell_type": "markdown",
   "id": "36672b9e",
   "metadata": {},
   "source": [
    "2) Normalize: coerce `rating` to 1..5 ints when possible; `text` to string; keep a count of `empty_text_count`."
   ]
  },
  {
   "cell_type": "code",
   "execution_count": 103,
   "id": "4253e377",
   "metadata": {},
   "outputs": [
    {
     "data": {
      "text/plain": [
       "rating\n",
       "5.0    244\n",
       "1.0    144\n",
       "6.0    138\n",
       "4.0    133\n",
       "0.0    125\n",
       "3.0    122\n",
       "2.0    103\n",
       "Name: count, dtype: int64"
      ]
     },
     "execution_count": 103,
     "metadata": {},
     "output_type": "execute_result"
    }
   ],
   "source": [
    "df.rating = pd.to_numeric(df.rating, errors = \"coerce\")\n",
    "df.rating.value_counts()"
   ]
  },
  {
   "cell_type": "code",
   "execution_count": 108,
   "id": "bbdb33cd",
   "metadata": {},
   "outputs": [],
   "source": [
    "df.rating = df.rating.clip(1, 5)"
   ]
  },
  {
   "cell_type": "code",
   "execution_count": 130,
   "id": "fc921923",
   "metadata": {},
   "outputs": [
    {
     "data": {
      "text/plain": [
       "np.int64(1)"
      ]
     },
     "execution_count": 130,
     "metadata": {},
     "output_type": "execute_result"
    }
   ],
   "source": [
    "df.text = df.text.astype('string')\n",
    "na = df.text.isna().sum()\n",
    "empty = (df.text.str.strip() == \"\").sum()\n",
    "empty_text_count = na + empty\n",
    "empty_text_count"
   ]
  },
  {
   "cell_type": "markdown",
   "id": "8ca31d9a",
   "metadata": {},
   "source": [
    "3) Compute `p95_text_length` and a `rating_hist` dict (1..5)."
   ]
  },
  {
   "cell_type": "code",
   "execution_count": 135,
   "id": "3be167a2",
   "metadata": {},
   "outputs": [],
   "source": [
    "df['text_length'] = df.text.str.len()"
   ]
  },
  {
   "cell_type": "code",
   "execution_count": 138,
   "id": "7f7c821e",
   "metadata": {},
   "outputs": [
    {
     "data": {
      "text/plain": [
       "np.float64(2673.7999999999997)"
      ]
     },
     "execution_count": 138,
     "metadata": {},
     "output_type": "execute_result"
    }
   ],
   "source": [
    "p95_text_length = df['text_length'].quantile(0.95)\n",
    "p95_text_length"
   ]
  },
  {
   "cell_type": "code",
   "execution_count": 145,
   "id": "f7986819",
   "metadata": {},
   "outputs": [],
   "source": [
    "ratings_hist = dict(df.rating.value_counts())"
   ]
  },
  {
   "cell_type": "code",
   "execution_count": 144,
   "id": "9346f8cf",
   "metadata": {},
   "outputs": [
    {
     "data": {
      "text/plain": [
       "{5.0: np.int64(382),\n",
       " 1.0: np.int64(269),\n",
       " 4.0: np.int64(133),\n",
       " 3.0: np.int64(122),\n",
       " 2.0: np.int64(103)}"
      ]
     },
     "execution_count": 144,
     "metadata": {},
     "output_type": "execute_result"
    }
   ],
   "source": [
    "dict(ratings_hist)"
   ]
  },
  {
   "cell_type": "markdown",
   "id": "4b13ea5b",
   "metadata": {},
   "source": [
    "4) Plots: save `length_hist.html` (hist of text lengths) and `rating_bar.html`."
   ]
  },
  {
   "cell_type": "code",
   "execution_count": 146,
   "id": "ff02b2d7",
   "metadata": {},
   "outputs": [
    {
     "data": {
      "text/plain": [
       "(array([131., 133., 119., 121., 131., 125., 141., 121., 130., 113.]),\n",
       " array([   5.,  290.,  575.,  860., 1145., 1430., 1715., 2000., 2285.,\n",
       "        2570., 2855.]),\n",
       " <BarContainer object of 10 artists>)"
      ]
     },
     "execution_count": 146,
     "metadata": {},
     "output_type": "execute_result"
    },
    {
     "data": {
      "image/png": "[encoded data removed]",
      "text/plain": [
       "<Figure size 640x480 with 1 Axes>"
      ]
     },
     "metadata": {},
     "output_type": "display_data"
    }
   ],
   "source": [
    "from matplotlib import pyplot as plt\n",
    "plt.hist(df.text_length)"
   ]
  },
  {
   "cell_type": "code",
   "execution_count": 148,
   "id": "0ac2a260",
   "metadata": {},
   "outputs": [
    {
     "data": {
      "text/plain": [
       "<BarContainer object of 5 artists>"
      ]
     },
     "execution_count": 148,
     "metadata": {},
     "output_type": "execute_result"
    },
    {
     "data": {
      "image/png": "[encoded data removed]",
      "text/plain": [
       "<Figure size 640x480 with 1 Axes>"
      ]
     },
     "metadata": {},
     "output_type": "display_data"
    }
   ],
   "source": [
    "val_counts = df.rating.value_counts()\n",
    "plt.bar(val_counts.index, val_counts.values)"
   ]
  },
  {
   "cell_type": "code",
   "execution_count": 156,
   "id": "9b6bedbe",
   "metadata": {},
   "outputs": [
    {
     "data": {
      "text/plain": [
       "{'truncated': 0, 'jsonerror': 83, 'control_char': 0, 'bom': 23}"
      ]
     },
     "execution_count": 156,
     "metadata": {},
     "output_type": "execute_result"
    }
   ],
   "source": [
    "# from pprint import pprint\n",
    "error_counts"
   ]
  },
  {
   "cell_type": "code",
   "execution_count": null,
   "id": "3d31a726",
   "metadata": {},
   "outputs": [
    {
     "data": {
      "text/plain": [
       "{'rows_parsed': 1266,\n",
       " 'error_counts': {'truncated': 0,\n",
       "  'jsonerror': 83,\n",
       "  'control_char': 0,\n",
       "  'bom': 23},\n",
       " 'rating_hist': {5.0: np.int64(382),\n",
       "  1.0: np.int64(269),\n",
       "  4.0: np.int64(133),\n",
       "  3.0: np.int64(122),\n",
       "  2.0: np.int64(103)},\n",
       " 'p95_text_length': 2673,\n",
       " 'empty_text_count': 1}"
      ]
     },
     "execution_count": 162,
     "metadata": {},
     "output_type": "execute_result"
    }
   ],
   "source": [
    "out = {\n",
    "    \"rows_parsed\": int(len(df)),\n",
    "    \"error_counts\": {k:int(v) for k,v in error_counts.items()},\n",
    "    \"rating_hist\": ratings_hist,\n",
    "    \"p95_text_length\": int(p95_text_length),\n",
    "    \"empty_text_count\": int(empty_text_count)\n",
    "}\n",
    "out"
   ]
  },
  {
   "cell_type": "code",
   "execution_count": 158,
   "id": "4a547ae5",
   "metadata": {},
   "outputs": [
    {
     "data": {
      "text/plain": [
       "np.float64(2673.7999999999997)"
      ]
     },
     "execution_count": 158,
     "metadata": {},
     "output_type": "execute_result"
    }
   ],
   "source": [
    "p95_text_length"
   ]
  },
  {
   "cell_type": "code",
   "execution_count": null,
   "id": "b49c4d42",
   "metadata": {},
   "outputs": [],
   "source": []
  }
 ],
 "metadata": {
  "kernelspec": {
   "display_name": ".venv",
   "language": "python",
   "name": "python3"
  },
  "language_info": {
   "codemirror_mode": {
    "name": "ipython",
    "version": 3
   },
   "file_extension": ".py",
   "mimetype": "text/x-python",
   "name": "python",
   "nbconvert_exporter": "python",
   "pygments_lexer": "ipython3",
   "version": "3.11.11"
  }
 },
 "nbformat": 4,
 "nbformat_minor": 5
}
