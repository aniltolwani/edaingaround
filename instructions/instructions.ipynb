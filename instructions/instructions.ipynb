{
 "cells": [
  {
   "cell_type": "markdown",
   "id": "44ff571e",
   "metadata": {},
   "source": [
    "**Instructions + Ratings**\n",
    "- rows (int)\n",
    "- exact_dup_rate (float)\n",
    "- token_p95_est (int)\n",
    "- category_counts (dict: {category -> int})\n",
    "- avg_response_length_by_rating (dict: {1..5 -> float})\n",
    "- empty_high_rating_count (int)\n",
    "\n",
    "# Pack: instructions\n",
    "- Instruction/response JSON with `source`, `category`, `rating`.\n",
    "- Injected duplicates, label noise (empty high-rating), and long responses.\n",
    "## Closed-ended tasks\n",
    "1) Exact duplicate rate.\n",
    "2) p95 token length; share of tokens in top 5% (optional).\n",
    "3) Category distribution; avg response length by rating (spot length bias).\n",
    "4) Count of empty responses with rating >=4; propose filters + retention.\n"
   ]
  },
  {
   "cell_type": "code",
   "execution_count": 10,
   "id": "8b037733",
   "metadata": {},
   "outputs": [
    {
     "data": {
      "text/plain": [
       "PosixPath('instr_0397.json.gz')"
      ]
     },
     "execution_count": 10,
     "metadata": {},
     "output_type": "execute_result"
    }
   ],
   "source": [
    "from pathlib import Path\n",
    "\n",
    "files = list(Path(\"./\").glob(\"instr*json*\"))\n",
    "files[15]"
   ]
  },
  {
   "cell_type": "code",
   "execution_count": 31,
   "id": "c69175e9",
   "metadata": {},
   "outputs": [
    {
     "data": {
      "text/html": [
       "<div>\n",
       "<style scoped>\n",
       "    .dataframe tbody tr th:only-of-type {\n",
       "        vertical-align: middle;\n",
       "    }\n",
       "\n",
       "    .dataframe tbody tr th {\n",
       "        vertical-align: top;\n",
       "    }\n",
       "\n",
       "    .dataframe thead th {\n",
       "        text-align: right;\n",
       "    }\n",
       "</style>\n",
       "<table border=\"1\" class=\"dataframe\">\n",
       "  <thead>\n",
       "    <tr style=\"text-align: right;\">\n",
       "      <th></th>\n",
       "      <th>id</th>\n",
       "      <th>source</th>\n",
       "      <th>category</th>\n",
       "      <th>instruction</th>\n",
       "      <th>response</th>\n",
       "      <th>rating</th>\n",
       "      <th>_pair_hash</th>\n",
       "      <th>_row</th>\n",
       "      <th>_file</th>\n",
       "    </tr>\n",
       "  </thead>\n",
       "  <tbody>\n",
       "    <tr>\n",
       "      <th>0</th>\n",
       "      <td>i708_0</td>\n",
       "      <td>synth_prompted</td>\n",
       "      <td>history</td>\n",
       "      <td>step please help thanks please help windows pl...</td>\n",
       "      <td>the explain use please data configure configur...</td>\n",
       "      <td>4</td>\n",
       "      <td>a7748aaf18855bd01d43c894a45fd29d</td>\n",
       "      <td>0</td>\n",
       "      <td>instr_0708.json</td>\n",
       "    </tr>\n",
       "    <tr>\n",
       "      <th>1</th>\n",
       "      <td>i708_1</td>\n",
       "      <td>wiki_how</td>\n",
       "      <td>history</td>\n",
       "      <td>configure guide windows lazy fox data over tha...</td>\n",
       "      <td>how example how linux linux thanks thanks use ...</td>\n",
       "      <td>5</td>\n",
       "      <td>99787fe4672c0d5aa3ced722230ca46c</td>\n",
       "      <td>1</td>\n",
       "      <td>instr_0708.json</td>\n",
       "    </tr>\n",
       "    <tr>\n",
       "      <th>2</th>\n",
       "      <td>i358_0</td>\n",
       "      <td>wiki_how</td>\n",
       "      <td>finance</td>\n",
       "      <td>help install windows jumps linux function api ...</td>\n",
       "      <td>please configure data dog explain example dog ...</td>\n",
       "      <td>2</td>\n",
       "      <td>cdb1e56704819ca91fb18526f04f734c</td>\n",
       "      <td>0</td>\n",
       "      <td>instr_0358.json</td>\n",
       "    </tr>\n",
       "    <tr>\n",
       "      <th>3</th>\n",
       "      <td>i358_1</td>\n",
       "      <td>wiki_how</td>\n",
       "      <td>science</td>\n",
       "      <td>help thanks please example jumps explain ubunt...</td>\n",
       "      <td>please jumps brown dog fox guide to install ex...</td>\n",
       "      <td>3</td>\n",
       "      <td>73f76e528cea89e171e6488801bec22c</td>\n",
       "      <td>1</td>\n",
       "      <td>instr_0358.json</td>\n",
       "    </tr>\n",
       "    <tr>\n",
       "      <th>4</th>\n",
       "      <td>i358_2</td>\n",
       "      <td>wiki_how</td>\n",
       "      <td>math</td>\n",
       "      <td>over function use how please api configure ubu...</td>\n",
       "      <td>brown linux to to fox guide the api fox thanks...</td>\n",
       "      <td>5</td>\n",
       "      <td>40ac991e87f899c80570d957bdf989b7</td>\n",
       "      <td>2</td>\n",
       "      <td>instr_0358.json</td>\n",
       "    </tr>\n",
       "    <tr>\n",
       "      <th>...</th>\n",
       "      <td>...</td>\n",
       "      <td>...</td>\n",
       "      <td>...</td>\n",
       "      <td>...</td>\n",
       "      <td>...</td>\n",
       "      <td>...</td>\n",
       "      <td>...</td>\n",
       "      <td>...</td>\n",
       "      <td>...</td>\n",
       "    </tr>\n",
       "    <tr>\n",
       "      <th>2494</th>\n",
       "      <td>i9_1</td>\n",
       "      <td>synth_prompted</td>\n",
       "      <td>writing</td>\n",
       "      <td>quick fox explain explain step quick help linu...</td>\n",
       "      <td>help function help api linux guide data data u...</td>\n",
       "      <td>1</td>\n",
       "      <td>8b466bd7c5edd239ff950dbb53978111</td>\n",
       "      <td>1</td>\n",
       "      <td>instr_0009.json</td>\n",
       "    </tr>\n",
       "    <tr>\n",
       "      <th>2495</th>\n",
       "      <td>i9_2</td>\n",
       "      <td>wiki_how</td>\n",
       "      <td>writing</td>\n",
       "      <td>how to lazy the jumps function linux windows o...</td>\n",
       "      <td>help example install use use data brown window...</td>\n",
       "      <td>5</td>\n",
       "      <td>cebe551d8de43ae6ec77aee80cfa5bd3</td>\n",
       "      <td>2</td>\n",
       "      <td>instr_0009.json</td>\n",
       "    </tr>\n",
       "    <tr>\n",
       "      <th>2496</th>\n",
       "      <td>i459_0</td>\n",
       "      <td>synth_prompted</td>\n",
       "      <td>writing</td>\n",
       "      <td>fox ubuntu jumps over guide dog quick the</td>\n",
       "      <td>please over fox how data example the windows e...</td>\n",
       "      <td>5</td>\n",
       "      <td>9578a2e3db857e56f87deece06720e6d</td>\n",
       "      <td>0</td>\n",
       "      <td>instr_0459.json</td>\n",
       "    </tr>\n",
       "    <tr>\n",
       "      <th>2497</th>\n",
       "      <td>i459_1</td>\n",
       "      <td>wiki_how</td>\n",
       "      <td>history</td>\n",
       "      <td>ubuntu dog ubuntu fox fox data jumps windows</td>\n",
       "      <td>step install over explain thanks please api he...</td>\n",
       "      <td>5</td>\n",
       "      <td>c2c3162cb470dfefbe63fee78e95045c</td>\n",
       "      <td>1</td>\n",
       "      <td>instr_0459.json</td>\n",
       "    </tr>\n",
       "    <tr>\n",
       "      <th>2498</th>\n",
       "      <td>i459_2</td>\n",
       "      <td>synth_prompted</td>\n",
       "      <td>finance</td>\n",
       "      <td>configure fox quick guide windows configure in...</td>\n",
       "      <td>brown windows to help jumps help dog ubuntu ju...</td>\n",
       "      <td>2</td>\n",
       "      <td>7cf16cd51763c150ccaeb0aaa1c34b82</td>\n",
       "      <td>2</td>\n",
       "      <td>instr_0459.json</td>\n",
       "    </tr>\n",
       "  </tbody>\n",
       "</table>\n",
       "<p>2499 rows × 9 columns</p>\n",
       "</div>"
      ],
      "text/plain": [
       "          id          source category  \\\n",
       "0     i708_0  synth_prompted  history   \n",
       "1     i708_1        wiki_how  history   \n",
       "2     i358_0        wiki_how  finance   \n",
       "3     i358_1        wiki_how  science   \n",
       "4     i358_2        wiki_how     math   \n",
       "...      ...             ...      ...   \n",
       "2494    i9_1  synth_prompted  writing   \n",
       "2495    i9_2        wiki_how  writing   \n",
       "2496  i459_0  synth_prompted  writing   \n",
       "2497  i459_1        wiki_how  history   \n",
       "2498  i459_2  synth_prompted  finance   \n",
       "\n",
       "                                            instruction  \\\n",
       "0     step please help thanks please help windows pl...   \n",
       "1     configure guide windows lazy fox data over tha...   \n",
       "2     help install windows jumps linux function api ...   \n",
       "3     help thanks please example jumps explain ubunt...   \n",
       "4     over function use how please api configure ubu...   \n",
       "...                                                 ...   \n",
       "2494  quick fox explain explain step quick help linu...   \n",
       "2495  how to lazy the jumps function linux windows o...   \n",
       "2496          fox ubuntu jumps over guide dog quick the   \n",
       "2497       ubuntu dog ubuntu fox fox data jumps windows   \n",
       "2498  configure fox quick guide windows configure in...   \n",
       "\n",
       "                                               response  rating  \\\n",
       "0     the explain use please data configure configur...       4   \n",
       "1     how example how linux linux thanks thanks use ...       5   \n",
       "2     please configure data dog explain example dog ...       2   \n",
       "3     please jumps brown dog fox guide to install ex...       3   \n",
       "4     brown linux to to fox guide the api fox thanks...       5   \n",
       "...                                                 ...     ...   \n",
       "2494  help function help api linux guide data data u...       1   \n",
       "2495  help example install use use data brown window...       5   \n",
       "2496  please over fox how data example the windows e...       5   \n",
       "2497  step install over explain thanks please api he...       5   \n",
       "2498  brown windows to help jumps help dog ubuntu ju...       2   \n",
       "\n",
       "                            _pair_hash  _row            _file  \n",
       "0     a7748aaf18855bd01d43c894a45fd29d     0  instr_0708.json  \n",
       "1     99787fe4672c0d5aa3ced722230ca46c     1  instr_0708.json  \n",
       "2     cdb1e56704819ca91fb18526f04f734c     0  instr_0358.json  \n",
       "3     73f76e528cea89e171e6488801bec22c     1  instr_0358.json  \n",
       "4     40ac991e87f899c80570d957bdf989b7     2  instr_0358.json  \n",
       "...                                ...   ...              ...  \n",
       "2494  8b466bd7c5edd239ff950dbb53978111     1  instr_0009.json  \n",
       "2495  cebe551d8de43ae6ec77aee80cfa5bd3     2  instr_0009.json  \n",
       "2496  9578a2e3db857e56f87deece06720e6d     0  instr_0459.json  \n",
       "2497  c2c3162cb470dfefbe63fee78e95045c     1  instr_0459.json  \n",
       "2498  7cf16cd51763c150ccaeb0aaa1c34b82     2  instr_0459.json  \n",
       "\n",
       "[2499 rows x 9 columns]"
      ]
     },
     "execution_count": 31,
     "metadata": {},
     "output_type": "execute_result"
    }
   ],
   "source": [
    "import pandas as pd\n",
    "\n",
    "dfs = []\n",
    "for file in files:\n",
    "    try:\n",
    "        df = pd.read_json(file, lines=False)\n",
    "    except Exception:\n",
    "        df = pd.read_json(file, lines=True)\n",
    "    df['_row'] = df.index\n",
    "    df['_file'] = str(file)\n",
    "    dfs.append(df)\n",
    "df = pd.concat(dfs).reset_index(drop=True)\n",
    "df"
   ]
  },
  {
   "cell_type": "code",
   "execution_count": 32,
   "id": "891f3001",
   "metadata": {},
   "outputs": [
    {
     "name": "stdout",
     "output_type": "stream",
     "text": [
      "<class 'pandas.core.frame.DataFrame'>\n",
      "RangeIndex: 2499 entries, 0 to 2498\n",
      "Data columns (total 9 columns):\n",
      " #   Column       Non-Null Count  Dtype \n",
      "---  ------       --------------  ----- \n",
      " 0   id           2499 non-null   object\n",
      " 1   source       2499 non-null   object\n",
      " 2   category     2499 non-null   object\n",
      " 3   instruction  2499 non-null   object\n",
      " 4   response     2499 non-null   object\n",
      " 5   rating       2499 non-null   int64 \n",
      " 6   _pair_hash   2499 non-null   object\n",
      " 7   _row         2499 non-null   int64 \n",
      " 8   _file        2499 non-null   object\n",
      "dtypes: int64(2), object(7)\n",
      "memory usage: 175.8+ KB\n"
     ]
    }
   ],
   "source": [
    "df.info()"
   ]
  },
  {
   "cell_type": "code",
   "execution_count": 25,
   "id": "53ff9b52",
   "metadata": {},
   "outputs": [
    {
     "data": {
      "text/plain": [
       "<Axes: >"
      ]
     },
     "execution_count": 25,
     "metadata": {},
     "output_type": "execute_result"
    },
    {
     "data": {
      "image/png": "[encoded data removed]",
      "text/plain": [
       "<Figure size 640x480 with 1 Axes>"
      ]
     },
     "metadata": {},
     "output_type": "display_data"
    }
   ],
   "source": [
    "df.rating.hist()"
   ]
  },
  {
   "cell_type": "code",
   "execution_count": 44,
   "id": "c45fc8c7",
   "metadata": {},
   "outputs": [],
   "source": [
    "answers = {}"
   ]
  },
  {
   "cell_type": "code",
   "execution_count": 77,
   "id": "52f2f469",
   "metadata": {},
   "outputs": [
    {
     "data": {
      "text/plain": [
       "2499"
      ]
     },
     "execution_count": 77,
     "metadata": {},
     "output_type": "execute_result"
    }
   ],
   "source": [
    "len(df)"
   ]
  },
  {
   "cell_type": "markdown",
   "id": "d73dd74f",
   "metadata": {},
   "source": [
    "\n",
    "1) Exact duplicate rate."
   ]
  },
  {
   "cell_type": "code",
   "execution_count": 88,
   "id": "38777fc7",
   "metadata": {},
   "outputs": [
    {
     "data": {
      "text/plain": [
       "2169"
      ]
     },
     "execution_count": 88,
     "metadata": {},
     "output_type": "execute_result"
    }
   ],
   "source": [
    "# More robust version\n",
    "df['response'].str.strip().nunique()"
   ]
  },
  {
   "cell_type": "markdown",
   "id": "3658f054",
   "metadata": {},
   "source": [
    "2) p95 token length; share of tokens in top 5% (optional)."
   ]
  },
  {
   "cell_type": "code",
   "execution_count": 49,
   "id": "94a5e8f8",
   "metadata": {},
   "outputs": [
    {
     "data": {
      "text/plain": [
       "(np.int64(87541), np.float64(138.0))"
      ]
     },
     "execution_count": 49,
     "metadata": {},
     "output_type": "execute_result"
    }
   ],
   "source": [
    "import tiktoken\n",
    "def get_n_tokens(series):\n",
    "    enc = tiktoken.get_encoding(\"cl100k_base\")\n",
    "    tokens = pd.Series(enc.encode_batch(series))\n",
    "    tok_length = tokens.apply(len)\n",
    "    return tok_length\n",
    "\n",
    "df['n_tokens'] = get_n_tokens(df['response'])\n",
    "p95 = df['n_tokens'].quantile(q = .95)\n",
    "p95_rows = df[df['n_tokens'] >= p95]\n",
    "answers[\"p95_token_length\"] = p95\n",
    "len(p95_rows)\n",
    "# share of tokens in top 5%\n",
    "frac_p95 = p95_rows['n_tokens'].sum()\n",
    "answers['frac_p95'] = frac_p95\n",
    "frac_p95, p95"
   ]
  },
  {
   "cell_type": "markdown",
   "id": "6c8105e6",
   "metadata": {},
   "source": [
    "3) Category distribution; avg response length by rating (spot length bias)."
   ]
  },
  {
   "cell_type": "code",
   "execution_count": 51,
   "id": "fe89b001",
   "metadata": {},
   "outputs": [
    {
     "data": {
      "text/plain": [
       "category\n",
       "math       325\n",
       "coding     322\n",
       "misc       319\n",
       "health     316\n",
       "writing    311\n",
       "history    310\n",
       "finance    301\n",
       "science    295\n",
       "Name: count, dtype: int64"
      ]
     },
     "execution_count": 51,
     "metadata": {},
     "output_type": "execute_result"
    }
   ],
   "source": [
    "df['category'].value_counts()"
   ]
  },
  {
   "cell_type": "code",
   "execution_count": 84,
   "id": "0cbd4526",
   "metadata": {},
   "outputs": [
    {
     "data": {
      "image/png": "[encoded data removed]",
      "text/plain": [
       "<Figure size 640x480 with 1 Axes>"
      ]
     },
     "metadata": {},
     "output_type": "display_data"
    }
   ],
   "source": [
    "\n",
    "from matplotlib import pyplot as plt\n",
    "\n",
    "df['response_length'] = df['response'].apply(len)\n",
    "\n",
    "plt.plot(df.groupby('rating')['response_length'].agg(['mean']), \"o-\", linewidth=2, markersize = 8)\n",
    "plt.grid(True, alpha = 0.3)"
   ]
  },
  {
   "cell_type": "markdown",
   "id": "46db883a",
   "metadata": {},
   "source": [
    "4) Count of empty responses with rating >=4; propose filters + retention."
   ]
  },
  {
   "cell_type": "code",
   "execution_count": 82,
   "id": "57a7efab",
   "metadata": {},
   "outputs": [
    {
     "data": {
      "text/plain": [
       "np.int64(36)"
      ]
     },
     "execution_count": 82,
     "metadata": {},
     "output_type": "execute_result"
    }
   ],
   "source": [
    "high_rating = df[df['rating'] >= 4]\n",
    "(high_rating['response'] == \"\").sum()"
   ]
  },
  {
   "cell_type": "code",
   "execution_count": 76,
   "id": "65e8b54e",
   "metadata": {},
   "outputs": [
    {
     "data": {
      "text/html": [
       "<div>\n",
       "<style scoped>\n",
       "    .dataframe tbody tr th:only-of-type {\n",
       "        vertical-align: middle;\n",
       "    }\n",
       "\n",
       "    .dataframe tbody tr th {\n",
       "        vertical-align: top;\n",
       "    }\n",
       "\n",
       "    .dataframe thead th {\n",
       "        text-align: right;\n",
       "    }\n",
       "</style>\n",
       "<table border=\"1\" class=\"dataframe\">\n",
       "  <thead>\n",
       "    <tr style=\"text-align: right;\">\n",
       "      <th></th>\n",
       "      <th>id</th>\n",
       "      <th>source</th>\n",
       "      <th>category</th>\n",
       "      <th>instruction</th>\n",
       "      <th>response</th>\n",
       "      <th>rating</th>\n",
       "      <th>_pair_hash</th>\n",
       "      <th>_row</th>\n",
       "      <th>_file</th>\n",
       "      <th>n_tokens</th>\n",
       "    </tr>\n",
       "  </thead>\n",
       "  <tbody>\n",
       "    <tr>\n",
       "      <th>0</th>\n",
       "      <td>i708_0</td>\n",
       "      <td>synth_prompted</td>\n",
       "      <td>history</td>\n",
       "      <td>step please help thanks please help windows pl...</td>\n",
       "      <td>the explain use please data configure configur...</td>\n",
       "      <td>4</td>\n",
       "      <td>a7748aaf18855bd01d43c894a45fd29d</td>\n",
       "      <td>0</td>\n",
       "      <td>instr_0708.json</td>\n",
       "      <td>98</td>\n",
       "    </tr>\n",
       "    <tr>\n",
       "      <th>1</th>\n",
       "      <td>i708_1</td>\n",
       "      <td>wiki_how</td>\n",
       "      <td>history</td>\n",
       "      <td>configure guide windows lazy fox data over tha...</td>\n",
       "      <td>how example how linux linux thanks thanks use ...</td>\n",
       "      <td>5</td>\n",
       "      <td>99787fe4672c0d5aa3ced722230ca46c</td>\n",
       "      <td>1</td>\n",
       "      <td>instr_0708.json</td>\n",
       "      <td>67</td>\n",
       "    </tr>\n",
       "    <tr>\n",
       "      <th>2</th>\n",
       "      <td>i358_0</td>\n",
       "      <td>wiki_how</td>\n",
       "      <td>finance</td>\n",
       "      <td>help install windows jumps linux function api ...</td>\n",
       "      <td>please configure data dog explain example dog ...</td>\n",
       "      <td>2</td>\n",
       "      <td>cdb1e56704819ca91fb18526f04f734c</td>\n",
       "      <td>0</td>\n",
       "      <td>instr_0358.json</td>\n",
       "      <td>134</td>\n",
       "    </tr>\n",
       "    <tr>\n",
       "      <th>3</th>\n",
       "      <td>i358_1</td>\n",
       "      <td>wiki_how</td>\n",
       "      <td>science</td>\n",
       "      <td>help thanks please example jumps explain ubunt...</td>\n",
       "      <td>please jumps brown dog fox guide to install ex...</td>\n",
       "      <td>3</td>\n",
       "      <td>73f76e528cea89e171e6488801bec22c</td>\n",
       "      <td>1</td>\n",
       "      <td>instr_0358.json</td>\n",
       "      <td>106</td>\n",
       "    </tr>\n",
       "    <tr>\n",
       "      <th>4</th>\n",
       "      <td>i358_2</td>\n",
       "      <td>wiki_how</td>\n",
       "      <td>math</td>\n",
       "      <td>over function use how please api configure ubu...</td>\n",
       "      <td>brown linux to to fox guide the api fox thanks...</td>\n",
       "      <td>5</td>\n",
       "      <td>40ac991e87f899c80570d957bdf989b7</td>\n",
       "      <td>2</td>\n",
       "      <td>instr_0358.json</td>\n",
       "      <td>112</td>\n",
       "    </tr>\n",
       "    <tr>\n",
       "      <th>...</th>\n",
       "      <td>...</td>\n",
       "      <td>...</td>\n",
       "      <td>...</td>\n",
       "      <td>...</td>\n",
       "      <td>...</td>\n",
       "      <td>...</td>\n",
       "      <td>...</td>\n",
       "      <td>...</td>\n",
       "      <td>...</td>\n",
       "      <td>...</td>\n",
       "    </tr>\n",
       "    <tr>\n",
       "      <th>2494</th>\n",
       "      <td>i9_1</td>\n",
       "      <td>synth_prompted</td>\n",
       "      <td>writing</td>\n",
       "      <td>quick fox explain explain step quick help linu...</td>\n",
       "      <td>help function help api linux guide data data u...</td>\n",
       "      <td>1</td>\n",
       "      <td>8b466bd7c5edd239ff950dbb53978111</td>\n",
       "      <td>1</td>\n",
       "      <td>instr_0009.json</td>\n",
       "      <td>42</td>\n",
       "    </tr>\n",
       "    <tr>\n",
       "      <th>2495</th>\n",
       "      <td>i9_2</td>\n",
       "      <td>wiki_how</td>\n",
       "      <td>writing</td>\n",
       "      <td>how to lazy the jumps function linux windows o...</td>\n",
       "      <td>help example install use use data brown window...</td>\n",
       "      <td>5</td>\n",
       "      <td>cebe551d8de43ae6ec77aee80cfa5bd3</td>\n",
       "      <td>2</td>\n",
       "      <td>instr_0009.json</td>\n",
       "      <td>71</td>\n",
       "    </tr>\n",
       "    <tr>\n",
       "      <th>2496</th>\n",
       "      <td>i459_0</td>\n",
       "      <td>synth_prompted</td>\n",
       "      <td>writing</td>\n",
       "      <td>fox ubuntu jumps over guide dog quick the</td>\n",
       "      <td>please over fox how data example the windows e...</td>\n",
       "      <td>5</td>\n",
       "      <td>9578a2e3db857e56f87deece06720e6d</td>\n",
       "      <td>0</td>\n",
       "      <td>instr_0459.json</td>\n",
       "      <td>83</td>\n",
       "    </tr>\n",
       "    <tr>\n",
       "      <th>2497</th>\n",
       "      <td>i459_1</td>\n",
       "      <td>wiki_how</td>\n",
       "      <td>history</td>\n",
       "      <td>ubuntu dog ubuntu fox fox data jumps windows</td>\n",
       "      <td>step install over explain thanks please api he...</td>\n",
       "      <td>5</td>\n",
       "      <td>c2c3162cb470dfefbe63fee78e95045c</td>\n",
       "      <td>1</td>\n",
       "      <td>instr_0459.json</td>\n",
       "      <td>32</td>\n",
       "    </tr>\n",
       "    <tr>\n",
       "      <th>2498</th>\n",
       "      <td>i459_2</td>\n",
       "      <td>synth_prompted</td>\n",
       "      <td>finance</td>\n",
       "      <td>configure fox quick guide windows configure in...</td>\n",
       "      <td>brown windows to help jumps help dog ubuntu ju...</td>\n",
       "      <td>2</td>\n",
       "      <td>7cf16cd51763c150ccaeb0aaa1c34b82</td>\n",
       "      <td>2</td>\n",
       "      <td>instr_0459.json</td>\n",
       "      <td>54</td>\n",
       "    </tr>\n",
       "  </tbody>\n",
       "</table>\n",
       "<p>2499 rows × 10 columns</p>\n",
       "</div>"
      ],
      "text/plain": [
       "          id          source category  \\\n",
       "0     i708_0  synth_prompted  history   \n",
       "1     i708_1        wiki_how  history   \n",
       "2     i358_0        wiki_how  finance   \n",
       "3     i358_1        wiki_how  science   \n",
       "4     i358_2        wiki_how     math   \n",
       "...      ...             ...      ...   \n",
       "2494    i9_1  synth_prompted  writing   \n",
       "2495    i9_2        wiki_how  writing   \n",
       "2496  i459_0  synth_prompted  writing   \n",
       "2497  i459_1        wiki_how  history   \n",
       "2498  i459_2  synth_prompted  finance   \n",
       "\n",
       "                                            instruction  \\\n",
       "0     step please help thanks please help windows pl...   \n",
       "1     configure guide windows lazy fox data over tha...   \n",
       "2     help install windows jumps linux function api ...   \n",
       "3     help thanks please example jumps explain ubunt...   \n",
       "4     over function use how please api configure ubu...   \n",
       "...                                                 ...   \n",
       "2494  quick fox explain explain step quick help linu...   \n",
       "2495  how to lazy the jumps function linux windows o...   \n",
       "2496          fox ubuntu jumps over guide dog quick the   \n",
       "2497       ubuntu dog ubuntu fox fox data jumps windows   \n",
       "2498  configure fox quick guide windows configure in...   \n",
       "\n",
       "                                               response  rating  \\\n",
       "0     the explain use please data configure configur...       4   \n",
       "1     how example how linux linux thanks thanks use ...       5   \n",
       "2     please configure data dog explain example dog ...       2   \n",
       "3     please jumps brown dog fox guide to install ex...       3   \n",
       "4     brown linux to to fox guide the api fox thanks...       5   \n",
       "...                                                 ...     ...   \n",
       "2494  help function help api linux guide data data u...       1   \n",
       "2495  help example install use use data brown window...       5   \n",
       "2496  please over fox how data example the windows e...       5   \n",
       "2497  step install over explain thanks please api he...       5   \n",
       "2498  brown windows to help jumps help dog ubuntu ju...       2   \n",
       "\n",
       "                            _pair_hash  _row            _file  n_tokens  \n",
       "0     a7748aaf18855bd01d43c894a45fd29d     0  instr_0708.json        98  \n",
       "1     99787fe4672c0d5aa3ced722230ca46c     1  instr_0708.json        67  \n",
       "2     cdb1e56704819ca91fb18526f04f734c     0  instr_0358.json       134  \n",
       "3     73f76e528cea89e171e6488801bec22c     1  instr_0358.json       106  \n",
       "4     40ac991e87f899c80570d957bdf989b7     2  instr_0358.json       112  \n",
       "...                                ...   ...              ...       ...  \n",
       "2494  8b466bd7c5edd239ff950dbb53978111     1  instr_0009.json        42  \n",
       "2495  cebe551d8de43ae6ec77aee80cfa5bd3     2  instr_0009.json        71  \n",
       "2496  9578a2e3db857e56f87deece06720e6d     0  instr_0459.json        83  \n",
       "2497  c2c3162cb470dfefbe63fee78e95045c     1  instr_0459.json        32  \n",
       "2498  7cf16cd51763c150ccaeb0aaa1c34b82     2  instr_0459.json        54  \n",
       "\n",
       "[2499 rows x 10 columns]"
      ]
     },
     "execution_count": 76,
     "metadata": {},
     "output_type": "execute_result"
    }
   ],
   "source": [
    "# filters\n",
    "df"
   ]
  },
  {
   "cell_type": "code",
   "execution_count": null,
   "id": "621d41eb",
   "metadata": {},
   "outputs": [],
   "source": [
    "# remove 13% dupes\n",
    "# < 30 tokens\n",
    "# ratings . a certain one\n",
    "# remove the dupes in high ratings\n"
   ]
  }
 ],
 "metadata": {
  "kernelspec": {
   "display_name": ".venv",
   "language": "python",
   "name": "python3"
  },
  "language_info": {
   "codemirror_mode": {
    "name": "ipython",
    "version": 3
   },
   "file_extension": ".py",
   "mimetype": "text/x-python",
   "name": "python",
   "nbconvert_exporter": "python",
   "pygments_lexer": "ipython3",
   "version": "3.11.11"
  }
 },
 "nbformat": 4,
 "nbformat_minor": 5
}
