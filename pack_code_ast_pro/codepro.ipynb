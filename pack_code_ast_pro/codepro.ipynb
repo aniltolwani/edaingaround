{
 "cells": [
  {
   "cell_type": "code",
   "execution_count": 24,
   "id": "ac898396",
   "metadata": {},
   "outputs": [
    {
     "name": "stdout",
     "output_type": "stream",
     "text": [
      "The autoreload extension is already loaded. To reload it, use:\n",
      "  %reload_ext autoreload\n",
      "Exception reporting mode: Verbose\n",
      "✅ Jupyter setup complete!\n"
     ]
    }
   ],
   "source": [
    "import pandas as pd\n",
    "import json\n",
    "from pathlib import Path\n",
    "import ast\n",
    "import gzip\n",
    "\n",
    "# Essential imports and settings for data analysis\n",
    "import pandas as pd\n",
    "import numpy as np\n",
    "import matplotlib.pyplot as plt\n",
    "import seaborn as sns\n",
    "from IPython.display import display, HTML, Markdown\n",
    "import warnings\n",
    "warnings.filterwarnings('ignore')\n",
    "\n",
    "# Pandas display options\n",
    "pd.set_option('display.max_columns', None)\n",
    "pd.set_option('display.max_rows', 100)\n",
    "pd.set_option('display.width', None)\n",
    "# pd.set_option('display.max_colwidth', 50)\n",
    "pd.set_option('display.precision', 4)\n",
    "pd.set_option('display.max_colwidth', None)  # or use a large number like 1000\n",
    "\n",
    "# Matplotlib settings\n",
    "%matplotlib inline\n",
    "plt.style.use('seaborn-v0_8')\n",
    "plt.rcParams['figure.figsize'] = (12, 8)\n",
    "plt.rcParams['font.size'] = 12\n",
    "%config InlineBackend.figure_format = 'retina'\n",
    "\n",
    "# Development helpers\n",
    "%load_ext autoreload\n",
    "%autoreload 2\n",
    "%xmode Verbose\n",
    "\n",
    "# Progress bars\n",
    "# from tqdm.notebook import tqdm\n",
    "# tqdm.pandas()\n",
    "\n",
    "print(\"✅ Jupyter setup complete!\")\n"
   ]
  },
  {
   "cell_type": "code",
   "execution_count": 187,
   "id": "5cca7ac9",
   "metadata": {},
   "outputs": [],
   "source": [
    "# first, let's read all the files\n",
    "from json import JSONDecodeError\n",
    "\n",
    "\n",
    "def parse_and_iterate(files):\n",
    "    \n",
    "    for file in files:\n",
    "        if file.suffix == \".gz\":\n",
    "            opener = gzip.open(file, \"rt\")\n",
    "        else:\n",
    "            opener = open(file, \"rt\")\n",
    "        with opener as f:\n",
    "            content = f.read()\n",
    "\n",
    "        # try to parse it as a json file first\n",
    "        try:\n",
    "            record = json.loads(content)\n",
    "\n",
    "            if isinstance(record, list):\n",
    "                for rec in record:\n",
    "                        yield rec\n",
    "            elif isinstance(record, dict):\n",
    "                yield record\n",
    "            else:\n",
    "                yield {\"__value__\": rec}\n",
    "            continue\n",
    "        except JSONDecodeError:\n",
    "            pass\n",
    "\n",
    "        # try to parse as a jsonl file\n",
    "        for line in content.splitlines():\n",
    "            if line.strip():\n",
    "                try:\n",
    "                    record = json.loads(line)\n",
    "                    if isinstance(record, list):\n",
    "                        for rec in record:\n",
    "                            yield rec\n",
    "                    elif isinstance(record, dict):\n",
    "                        yield record\n",
    "                    else:\n",
    "                        yield {\"__value__\": rec}\n",
    "                except JSONDecodeError:\n",
    "                    print(\"invalid json and jsonl\", file)\n",
    "                    continue\n",
    "\n",
    "    \n",
    "    \n",
    "files = list(Path(\"./\").glob(\"codepro*json*\"))\n",
    "recs = [rec for rec in parse_and_iterate(files)]\n",
    "rows = len(recs)"
   ]
  },
  {
   "cell_type": "code",
   "execution_count": 188,
   "id": "130940d6",
   "metadata": {},
   "outputs": [
    {
     "data": {
      "text/plain": [
       "(       id lang       source  \\\n",
       " 0  k675_0   py  gen_example   \n",
       " 1  k225_0   py   doc_sample   \n",
       " 2  k225_1   py       repo_B   \n",
       " 3  k483_0   js       repo_B   \n",
       " 4  k483_1   py  gen_example   \n",
       " \n",
       "                                                                                                                                                                                                                                                                                                                                                                                                                                                                                                                                                              code  \n",
       " 0                                                                                                                                                                                                                                                                                                                                                                                                                                                                   def f142(a):\\n    if a>0:\\n        a-=1\\n    for i in range(3):\\n        a+=i\\n    return a\\n  \n",
       " 1                                                                                                                                                                                                                                                                                def f558(a):\\n    if a>0:\\n        a-=1\\n    return a\\ndef f645(a):\\n    if a>0:\\n        a-=1\\n    for i in range(3):\\n        a+=i\\n    len(a)\\n    map(a)\\n    return a\\ndef f677(a):\\n    if a>0:\\n        a-=1\\n    while a<5:\\n        break\\n    print(a)\\n    return a\\n  \n",
       " 2  x=aaaaaaaaaaaaaaaaaaaaaaaaaaaaaaaaaaaaaaaaaaaaaaaaaaaaaaaaaaaaaaaaaaaaaaaaaaaaaaaaaaaaaaaaaaaaaaaaaaaaaaaaaaaaaaaaaaaaaaaaaaaaaaaaaaaaaaaaaaaaaaaaaaaaaaaaaaaaaaaaaaaaaaaaaaaaaaaaaaaaaaaaaaaaaaaaaaaaaaaaaaaaaaaaaaaaaaaaaaaaaaaaaaaaaa\\ndef f307(a):\\n    if a>0:\\n        a-=1\\n    for i in range(3):\\n        a+=i\\n    sorted(a)\\n    map(a)\\n    yaml.load(a)\\n    return a\\ndef f116(a):\\n    pickle.loads(a)\\n    pickle.loads(a)\\n    len(a)\\n    return a\\ndef f164(a):\\n    if a>0:\\n        a-=1\\n    map(a)\\n    pickle.loads(a)\\n    return a\\n  \n",
       " 3                                                                                                                                                                                                                                                                                                                                                                                                                                                                                                                                function add(a,b){return a+b;}\\n  \n",
       " 4                                                                                                                                                                                                                                                                                                         def f804(a):\\n    if a>0:\\n        a-=1\\n    for i in range(3):\\n        a+=i\\n    json.dumps(a)\\n    pickle.loads(a)\\n    sorted(a)\\n    return a\\ndef f59(a):\\n    for i in range(3):\\n        a+=i\\n    sorted(a)\\n    json.dumps(a)\\n    return a\\n  ,\n",
       " lang\n",
       " py    819\n",
       " js    535\n",
       " Name: count, dtype: int64)"
      ]
     },
     "execution_count": 188,
     "metadata": {},
     "output_type": "execute_result"
    }
   ],
   "source": [
    "df = pd.DataFrame(recs)\n",
    "df.head(), df.lang.value_counts()"
   ]
  },
  {
   "cell_type": "code",
   "execution_count": 189,
   "id": "bb47eabb",
   "metadata": {},
   "outputs": [
    {
     "data": {
      "text/plain": [
       "np.float64(0.9084249084249084)"
      ]
     },
     "execution_count": 189,
     "metadata": {},
     "output_type": "execute_result"
    }
   ],
   "source": [
    "# 1) **Python**: parse rate (`py_parse_rate`), total function defs (`py_total_funcs`), and count of branch nodes (`py_branch_nodes` ~ If/For/While/Try).\n",
    "\n",
    "py_rows = df[df['lang'] == \"py\"]\n",
    "py_rows\n",
    "\n",
    "def parse_rows(code):\n",
    "    try:\n",
    "        return ast.parse(code.encode().decode('unicode_escape'))\n",
    "    except SyntaxError:\n",
    "        return None\n",
    "\n",
    "\n",
    "py_rows['parsed_code'] = py_rows.code.apply(parse_rows)\n",
    "py_parse_rate = py_rows['parsed_code'].notna().sum() / len(py_rows)\n",
    "py_parse_rate"
   ]
  },
  {
   "cell_type": "code",
   "execution_count": 190,
   "id": "ce06ae35",
   "metadata": {},
   "outputs": [
    {
     "data": {
      "text/plain": [
       "np.int64(1589)"
      ]
     },
     "execution_count": 190,
     "metadata": {},
     "output_type": "execute_result"
    }
   ],
   "source": [
    "# 1) **Python**: parse rate (`py_parse_rate`), total function defs (`py_total_funcs`), and count of branch nodes (`py_branch_nodes` ~ If/For/While/Try).\n",
    "\n",
    "def walk_and_check_function_def(node):\n",
    "    f_defs = 0\n",
    "    if not node:\n",
    "        return 0\n",
    "    for n in ast.walk(node):\n",
    "        if isinstance(n, ast.FunctionDef):\n",
    "            f_defs += 1\n",
    "    return f_defs\n",
    "\n",
    "py_total_funcs = py_rows['parsed_code'].apply(walk_and_check_function_def).sum()\n",
    "py_total_funcs"
   ]
  },
  {
   "cell_type": "code",
   "execution_count": 198,
   "id": "93f636da",
   "metadata": {},
   "outputs": [
    {
     "data": {
      "text/plain": [
       "np.int64(2256)"
      ]
     },
     "execution_count": 198,
     "metadata": {},
     "output_type": "execute_result"
    }
   ],
   "source": [
    "# 1) **Python**: parse rate (`py_parse_rate`), total function defs (`py_total_funcs`), and count of branch nodes (`py_branch_nodes` ~ If/For/While/Try).\n",
    "\n",
    "def walk_and_check_function_def(node):\n",
    "    if not node:\n",
    "        return 0\n",
    "    f_branch = 0\n",
    "    for n in ast.walk(node):\n",
    "        if isinstance(n, ast.While) or isinstance(n, ast.For) or isinstance(n, ast.If) or isinstance(n, ast.Try):\n",
    "            f_branch += 1\n",
    "    return f_branch\n",
    "\n",
    "py_rows['n_branches'] = py_rows.parsed_code.apply(walk_and_check_function_def)\n",
    "get_branch_n = py_rows['n_branches'].sum()\n",
    "get_branch_n"
   ]
  },
  {
   "cell_type": "code",
   "execution_count": 215,
   "id": "9d53323f",
   "metadata": {},
   "outputs": [
    {
     "data": {
      "text/plain": [
       "{'eval': 79,\n",
       " 'exec': 0,\n",
       " 'open(': 0,\n",
       " 'subprocess': 0,\n",
       " 'pickle.loads': 256,\n",
       " 'yaml.load(': 251}"
      ]
     },
     "execution_count": 215,
     "metadata": {},
     "output_type": "execute_result"
    }
   ],
   "source": [
    "# 2) **Danger patterns**: counts for `[\"eval\",\"exec\",\"open(\",\"subprocess\",\"pickle.loads\",\"yaml.load(\"]` across all code.\n",
    "# danger_patterns = [\"eval\", \"exec\", \"open(\", \"subprocess\", \"pickle.loads\", \"yaml.load(\"]\n",
    "\n",
    "\n",
    "danger_counts = {\n",
    "    \"eval\": 0,\n",
    "    \"exec\": 0,\n",
    "    \"open(\": 0,\n",
    "    \"subprocess\": 0,\n",
    "    \"pickle.loads\": 0,\n",
    "    \"yaml.load(\": 0\n",
    "}\n",
    "def count_dangerous_patterns(row):\n",
    "    for pattern in danger_counts.keys():\n",
    "        danger_counts[pattern] += row.count(pattern)\n",
    "\n",
    "py_rows.code.apply(count_dangerous_patterns)\n",
    "danger_counts"
   ]
  },
  {
   "cell_type": "code",
   "execution_count": 193,
   "id": "71d895c7",
   "metadata": {},
   "outputs": [
    {
     "data": {
      "text/plain": [
       "np.int64(57)"
      ]
     },
     "execution_count": 193,
     "metadata": {},
     "output_type": "execute_result"
    }
   ],
   "source": [
    "# 3) **JS**: `js_eval_count` (rows with `eval(`) and `long_lines_over_200` across all langs.\n",
    "js_rows = df[df['lang'] == 'js']\n",
    "import re\n",
    "pat = \"eval\" + re.escape('(')\n",
    "js_eval_count = js_rows.code.str.count(pat).sum()\n",
    "js_eval_count"
   ]
  },
  {
   "cell_type": "code",
   "execution_count": 209,
   "id": "49e6c1cc",
   "metadata": {},
   "outputs": [
    {
     "data": {
      "text/plain": [
       "np.int64(166)"
      ]
     },
     "execution_count": 209,
     "metadata": {},
     "output_type": "execute_result"
    }
   ],
   "source": [
    "# long_lines_over_200\n",
    "\n",
    "def count_lines(text):\n",
    "    cnt = 0\n",
    "    for line in text.encode().decode(\"unicode_escape\").splitlines():\n",
    "        if len(line) > 200:\n",
    "            cnt += 1\n",
    "    return cnt\n",
    "    # return text.encode().decode(\"unicode_escape\").count(\"\\n\")\n",
    "\n",
    "df[\"n_lines\"] = df.code.apply(count_lines)\n",
    "long_lines_over_200 = df[\"n_lines\"].sum()\n",
    "long_lines_over_200"
   ]
  },
  {
   "cell_type": "code",
   "execution_count": 195,
   "id": "31bca807",
   "metadata": {},
   "outputs": [
    {
     "data": {
      "text/plain": [
       "{'range': 1031, 'sum': 265, 'print': 264, 'map': 262, 'pickle': 256}"
      ]
     },
     "execution_count": 195,
     "metadata": {},
     "output_type": "execute_result"
    }
   ],
   "source": [
    "from collections import Counter\n",
    "all_calls = []\n",
    "def walk_calls(node):\n",
    "    if not node:\n",
    "        return\n",
    "    for n in ast.walk(node):\n",
    "        if isinstance(n, ast.Call):\n",
    "            if isinstance(n.func, ast.Name):\n",
    "                all_calls.append(n.func.id)\n",
    "            else:\n",
    "                all_calls.append(n.func.value.id)\n",
    "py_rows.parsed_code.apply(walk_calls)\n",
    "top_calls = Counter(all_calls).most_common(5)\n",
    "top_calls = {call:count for call, count in top_calls}\n",
    "top_calls"
   ]
  },
  {
   "cell_type": "code",
   "execution_count": 196,
   "id": "aab24e2f",
   "metadata": {},
   "outputs": [
    {
     "data": {
      "text/plain": [
       "<BarContainer object of 2 artists>"
      ]
     },
     "execution_count": 196,
     "metadata": {},
     "output_type": "execute_result"
    },
    {
     "data": {
      "image/png": "[encoded data removed]",
      "text/plain": [
       "<Figure size 1200x800 with 1 Axes>"
      ]
     },
     "metadata": {
      "image/png": {
       "height": 658,
       "width": 982
      }
     },
     "output_type": "display_data"
    }
   ],
   "source": [
    "series = df.lang.value_counts()\n",
    "plt.bar(series.index, series.values)"
   ]
  },
  {
   "cell_type": "code",
   "execution_count": 206,
   "id": "6b8302d1",
   "metadata": {},
   "outputs": [
    {
     "data": {
      "text/plain": [
       "(array([102., 117., 176., 148.,   0., 133.,  75.,  46.,  16.,   6.]),\n",
       " array([1. , 1.8, 2.6, 3.4, 4.2, 5. , 5.8, 6.6, 7.4, 8.2, 9. ]),\n",
       " <BarContainer object of 10 artists>)"
      ]
     },
     "execution_count": 206,
     "metadata": {},
     "output_type": "execute_result"
    },
    {
     "data": {
      "image/png": "[encoded data removed]",
      "text/plain": [
       "<Figure size 1200x800 with 1 Axes>"
      ]
     },
     "metadata": {
      "image/png": {
       "height": 658,
       "width": 982
      }
     },
     "output_type": "display_data"
    }
   ],
   "source": [
    "plt.hist(py_rows.n_branches + 1)"
   ]
  },
  {
   "cell_type": "code",
   "execution_count": 210,
   "id": "b3c65953",
   "metadata": {},
   "outputs": [
    {
     "data": {
      "text/plain": [
       "np.float64(0.9084249084249084)"
      ]
     },
     "execution_count": 210,
     "metadata": {},
     "output_type": "execute_result"
    }
   ],
   "source": [
    "py_parse_rate"
   ]
  },
  {
   "cell_type": "code",
   "execution_count": 211,
   "id": "bded629f",
   "metadata": {},
   "outputs": [
    {
     "data": {
      "text/plain": [
       "{'eval': 79, 'exec': 0, 'open(': 0, 'subprocess': 0, 'pickle.loads': 256}"
      ]
     },
     "execution_count": 211,
     "metadata": {},
     "output_type": "execute_result"
    }
   ],
   "source": [
    "danger_counts"
   ]
  },
  {
   "cell_type": "code",
   "execution_count": 212,
   "id": "668784bf",
   "metadata": {},
   "outputs": [
    {
     "data": {
      "text/plain": [
       "{'range': 1031, 'sum': 265, 'print': 264, 'map': 262, 'pickle': 256}"
      ]
     },
     "execution_count": 212,
     "metadata": {},
     "output_type": "execute_result"
    }
   ],
   "source": [
    "top_calls"
   ]
  },
  {
   "cell_type": "code",
   "execution_count": 213,
   "id": "816fe340",
   "metadata": {},
   "outputs": [
    {
     "data": {
      "text/plain": [
       "np.int64(57)"
      ]
     },
     "execution_count": 213,
     "metadata": {},
     "output_type": "execute_result"
    }
   ],
   "source": [
    "js_eval_count"
   ]
  },
  {
   "cell_type": "code",
   "execution_count": 214,
   "id": "cb85f887",
   "metadata": {},
   "outputs": [
    {
     "data": {
      "text/plain": [
       "1354"
      ]
     },
     "execution_count": 214,
     "metadata": {},
     "output_type": "execute_result"
    }
   ],
   "source": [
    "rows"
   ]
  },
  {
   "cell_type": "code",
   "execution_count": null,
   "id": "64cc0aed",
   "metadata": {},
   "outputs": [],
   "source": []
  }
 ],
 "metadata": {
  "kernelspec": {
   "display_name": ".venv",
   "language": "python",
   "name": "python3"
  },
  "language_info": {
   "codemirror_mode": {
    "name": "ipython",
    "version": 3
   },
   "file_extension": ".py",
   "mimetype": "text/x-python",
   "name": "python",
   "nbconvert_exporter": "python",
   "pygments_lexer": "ipython3",
   "version": "3.11.11"
  }
 },
 "nbformat": 4,
 "nbformat_minor": 5
}
