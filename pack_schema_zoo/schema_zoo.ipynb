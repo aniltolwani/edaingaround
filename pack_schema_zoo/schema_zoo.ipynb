{
 "cells": [
  {
   "cell_type": "markdown",
   "id": "64782c01",
   "metadata": {},
   "source": [
    "# Pack: schema_zoo\n",
    "\n",
    "**Goal:** Practice robust schema inference, nested flattening, indexing/selection, and plotting.\n",
    "\n",
    "## Closed-ended tasks\n",
    "1) **Schema profile**: total `rows`, `unique_ids`, and `id_collision_count` (same id with conflicting payloads).\n",
    "2) **Missingness plot**: create a bar chart of top-15 keys by presence rate and save as `schema_missingness.html`.\n",
    "3) **Tags**: flatten any tag fields (either `meta.tags` list or `meta=[{k:'tag',v:...}]`) and produce a bar chart of top tags saved as `top_tags.html`.\n",
    "4) **Counts**: output `top_tag_counts` (top 5 as a dict) and `keys_multi_type_count` (keys that appear with more than one JSON type).\n",
    "\n",
    "## What to output\n",
    "Create `result.json` with:\n",
    "```\n",
    "{\n",
    "  \"rows\": int,\n",
    "  \"unique_ids\": int,\n",
    "  \"id_collision_count\": int,\n",
    "  \"top_tag_counts\": {\"tag\": count, ...},   # top 5\n",
    "  \"keys_present_top10\": {\"key\": count, ...}, # optional, not graded\n",
    "  \"keys_multi_type_count\": int\n",
    "}\n",
    "```\n",
    "Also save plots:\n",
    "- `schema_missingness.html`\n",
    "- `top_tags.html`\n"
   ]
  },
  {
   "cell_type": "code",
   "execution_count": 37,
   "id": "e56be690",
   "metadata": {},
   "outputs": [],
   "source": [
    "import pandas as pd\n",
    "import json\n",
    "from pathlib import Path\n",
    "answer = {}"
   ]
  },
  {
   "cell_type": "code",
   "execution_count": 38,
   "id": "cd2d1352",
   "metadata": {},
   "outputs": [],
   "source": [
    "json_files = Path(\"./\").glob(\"schema*json*\")\n",
    "dfs = []\n",
    "for file in json_files:\n",
    "    try:\n",
    "        df = pd.read_json(file)\n",
    "        dfs.append(df)\n",
    "    except Exception as e:\n",
    "        try:\n",
    "            df = pd.read_json(file, lines=True)\n",
    "            dfs.append(df)\n",
    "        except Exception as f:\n",
    "            print(\"f\", f)\n",
    "df = pd.concat(dfs)\n",
    "df = df.reset_index(drop=True)"
   ]
  },
  {
   "cell_type": "code",
   "execution_count": 39,
   "id": "4d13ca19",
   "metadata": {},
   "outputs": [
    {
     "data": {
      "text/plain": [
       "2384"
      ]
     },
     "execution_count": 39,
     "metadata": {},
     "output_type": "execute_result"
    }
   ],
   "source": [
    "len(df)"
   ]
  },
  {
   "cell_type": "markdown",
   "id": "cf6bf2d6",
   "metadata": {},
   "source": [
    "1) **Schema profile**: total `rows`, `unique_ids`, and `id_collision_count` (same id with conflicting payloads)."
   ]
  },
  {
   "cell_type": "code",
   "execution_count": 40,
   "id": "17de7961",
   "metadata": {},
   "outputs": [],
   "source": [
    "n_rows = len(df)\n",
    "unique_ids = df.id.nunique()\n",
    "id_collision_count = n_rows - unique_ids\n",
    "n_rows, unique_ids, id_collision_count\n",
    "answer[\"rows\"] = n_rows\n",
    "answer[\"unique_ids\"] = unique_ids\n",
    "answer[\"id_collision_count\"] = id_collision_count"
   ]
  },
  {
   "cell_type": "markdown",
   "id": "799d863b",
   "metadata": {},
   "source": [
    "2) **Missingness plot**: create a bar chart of top-15 keys by presence rate and save as `schema_missingness.html`."
   ]
  },
  {
   "cell_type": "code",
   "execution_count": 41,
   "id": "3e8daadd",
   "metadata": {},
   "outputs": [
    {
     "data": {
      "image/png": "[encoded data removed]",
      "text/plain": [
       "<Figure size 640x480 with 1 Axes>"
      ]
     },
     "metadata": {},
     "output_type": "display_data"
    }
   ],
   "source": [
    "from matplotlib import pyplot as plt\n",
    "import mpld3\n",
    "def get_presence_rate(series):\n",
    "    return 1 - (series.notna().sum() / len(series))\n",
    "\n",
    "presence_rates = df.agg(get_presence_rate)\n",
    "plt.bar(presence_rates.index, presence_rates.values)\n",
    "# whats the one to rotate the x axis values...\n",
    "plt.xticks(rotation=45)\n",
    "mpld3.save_html(plt.gcf(), \"schema_missingness.html\")"
   ]
  },
  {
   "cell_type": "markdown",
   "id": "b89eb078",
   "metadata": {},
   "source": [
    "3) **Tags**: flatten any tag fields (either `meta.tags` list or `meta=[{k:'tag',v:...}]`) and produce a bar chart of top tags saved as `top_tags.html`."
   ]
  },
  {
   "cell_type": "code",
   "execution_count": 42,
   "id": "c610d156",
   "metadata": {},
   "outputs": [
    {
     "data": {
      "text/plain": [
       "{'tag'}"
      ]
     },
     "execution_count": 42,
     "metadata": {},
     "output_type": "execute_result"
    }
   ],
   "source": [
    "keys = set()\n",
    "def process_meta(meta):\n",
    "    # first try to read it in\n",
    "    if not meta or isinstance(meta, float) and pd.isna(meta):\n",
    "        return []\n",
    "    # print(meta)\n",
    "    tags = []\n",
    "    if 'tags' in meta and meta.get('tags') and isinstance(meta['tags'], list):\n",
    "        # print('here', meta['tags'])\n",
    "        tags = meta['tags']\n",
    "    elif meta and isinstance(meta, list):\n",
    "        tags = [item['v'] for item in meta if item['k'] == 'tag']\n",
    "        k_unique = set([item['k'] for item in meta])\n",
    "        keys.update(k_unique)\n",
    "    else:\n",
    "        print(\"what\")\n",
    "    return tags\n",
    "    # pass\n",
    "\n",
    "df['tags'] = df.meta.apply(process_meta)\n",
    "keys"
   ]
  },
  {
   "cell_type": "code",
   "execution_count": 43,
   "id": "5e3cd8f6",
   "metadata": {},
   "outputs": [],
   "source": [
    "# we need to get a counter of the tags\n",
    "from collections import Counter\n",
    "tags = []\n",
    "df['tags'].apply(lambda x: tags.extend(x))\n",
    "c = Counter(tags)"
   ]
  },
  {
   "cell_type": "code",
   "execution_count": 44,
   "id": "4ccdbd21",
   "metadata": {},
   "outputs": [
    {
     "data": {
      "image/png": "[encoded data removed]",
      "text/plain": [
       "<Figure size 640x480 with 1 Axes>"
      ]
     },
     "metadata": {},
     "output_type": "display_data"
    }
   ],
   "source": [
    "import mpld3\n",
    "top_tags = c.most_common(15)\n",
    "indices = [tag for tag, _ in top_tags]\n",
    "values = [val for _, val in top_tags]\n",
    "plt.bar(x=indices, height=values)\n",
    "plt.xticks(rotation=45)\n",
    "mpld3.save_html(plt.gcf(), \"top_tags.html\")"
   ]
  },
  {
   "cell_type": "markdown",
   "id": "38f48a0e",
   "metadata": {},
   "source": [
    "4) **Counts**: output `top_tag_counts` (top 5 as a dict) and `keys_multi_type_count` (keys that appear with more than one JSON type)."
   ]
  },
  {
   "cell_type": "code",
   "execution_count": 45,
   "id": "a66dd5c7",
   "metadata": {},
   "outputs": [
    {
     "data": {
      "text/plain": [
       "[('ppo', 121),\n",
       " ('training', 120),\n",
       " ('privacy', 119),\n",
       " ('docker', 115),\n",
       " ('kubernetes', 113)]"
      ]
     },
     "execution_count": 45,
     "metadata": {},
     "output_type": "execute_result"
    }
   ],
   "source": [
    "top_5 = c.most_common(5)\n",
    "top_5\n",
    "#   \"top_tag_counts\": {\"tag\": count, ...},   # top 5"
   ]
  },
  {
   "cell_type": "code",
   "execution_count": 46,
   "id": "6359a714",
   "metadata": {},
   "outputs": [],
   "source": [
    "top_tag_counts = {t:c for t,c in top_5}\n",
    "top_tag_counts\n",
    "answer[\"top_tag_counts\"] = top_tag_counts\n"
   ]
  },
  {
   "cell_type": "code",
   "execution_count": 47,
   "id": "94d82f66",
   "metadata": {},
   "outputs": [],
   "source": [
    "from pathlib import Path\n",
    "import gzip\n",
    "import json\n",
    "\n",
    "from json import JSONDecodeError\n",
    "rows = []\n",
    "json_files = Path(\"./\").glob(\"schema*json*\")\n",
    "for file in json_files:\n",
    "    if file.suffix == '.gz':\n",
    "        opener = gzip.open(file, mode = \"rt\")\n",
    "    else:\n",
    "        opener = open(file, mode = \"rt\")\n",
    "    with opener as f:\n",
    "        content = f.read()\n",
    "\n",
    "    # try json read\n",
    "    try:\n",
    "        loaded = json.loads(content)\n",
    "        if isinstance(loaded, list):\n",
    "            rows.extend(loaded)\n",
    "        else:\n",
    "            # dict object\n",
    "            rows.append(loaded)\n",
    "        continue\n",
    "    except JSONDecodeError:\n",
    "        pass\n",
    "    \n",
    "    # if we are here we failed, lets try jsonl\n",
    "\n",
    "    for line in content.splitlines():\n",
    "        if line.strip():\n",
    "            try:\n",
    "                loaded = json.loads(line)\n",
    "                rows.extend(loaded if isinstance(loaded, list) else [loaded])\n",
    "            except JSONDecodeError:\n",
    "                pass\n",
    "# iterate through each of the keys and see if there are mixed data types\n",
    "keys = set()\n",
    "for idx, row in enumerate(rows):\n",
    "    # print(row, idx)\n",
    "    row_keys = set(row.keys())\n",
    "    keys.update(row_keys)\n",
    "\n",
    "all_keys = keys # {'content', 'docs', 'id', 'meta', 'source', 'text', 'timestamp', 'title'}\n",
    "keys_dtype = {k: [] for k in all_keys}\n",
    "\n",
    "for idx, row in enumerate(rows):\n",
    "    # key -> type pairs\n",
    "    for k in row.keys():\n",
    "        if type(row[k]) not in keys_dtype[k]:\n",
    "            keys_dtype[k].append(type(row[k]))\n",
    "\n",
    "keys_multi_type_count = sum([1 for _, val in keys_dtype.items() if len(val) > 1])\n",
    "answer['keys_multi_type_count'] = keys_multi_type_count"
   ]
  },
  {
   "cell_type": "code",
   "execution_count": 48,
   "id": "4bd662b9",
   "metadata": {},
   "outputs": [
    {
     "data": {
      "text/plain": [
       "{'rows': 2384,\n",
       " 'unique_ids': 2285,\n",
       " 'id_collision_count': 99,\n",
       " 'top_tag_counts': {'ppo': 121,\n",
       "  'training': 120,\n",
       "  'privacy': 119,\n",
       "  'docker': 115,\n",
       "  'kubernetes': 113},\n",
       " 'keys_multi_type_count': 1}"
      ]
     },
     "execution_count": 48,
     "metadata": {},
     "output_type": "execute_result"
    }
   ],
   "source": [
    "answer"
   ]
  },
  {
   "cell_type": "code",
   "execution_count": null,
   "id": "d6719ed8",
   "metadata": {},
   "outputs": [],
   "source": [
    "# Create the four records as described\n",
    "records = [\n",
    "    {\"id\": \"X\", \"v\": 1},\n",
    "    {\"id\": \"X\", \"v\": 1},  # identical to above\n",
    "    {\"id\": \"X\", \"v\": 2},  # one true conflict\n",
    "    {\"id\": \"Y\", \"v\": 3}\n",
    "]\n",
    "\n",
    "def collision_detect()"
   ]
  },
  {
   "cell_type": "code",
   "execution_count": 66,
   "id": "97c3227a",
   "metadata": {},
   "outputs": [
    {
     "data": {
      "text/plain": [
       "np.int64(1)"
      ]
     },
     "execution_count": 66,
     "metadata": {},
     "output_type": "execute_result"
    }
   ],
   "source": [
    "from hashlib import md5\n",
    "# Create the four records as described\n",
    "records = [\n",
    "    {\"id\": \"X\", \"v\": 1},\n",
    "    {\"id\": \"X\", \"v\": 1},  # identical to above\n",
    "    {\"id\": \"X\", \"v\": 2},  # one true conflict\n",
    "    {\"id\": \"Y\", \"v\": 3}\n",
    "]\n",
    "\n",
    "\n",
    "def compute_hash(row):\n",
    "    content = {k: str(row[k]) for k in row.index if k != \"id\"}\n",
    "    digest = md5(json.dumps(content).encode()).hexdigest()\n",
    "    return digest\n",
    "\n",
    "\n",
    "df = pd.DataFrame(records)\n",
    "df['hash'] = df.apply(compute_hash, axis=1)\n",
    "(df.groupby('id')['hash'].nunique() > 1).sum()"
   ]
  },
  {
   "cell_type": "code",
   "execution_count": 67,
   "id": "1cc05e6d",
   "metadata": {},
   "outputs": [
    {
     "data": {
      "text/html": [
       "<div>\n",
       "<style scoped>\n",
       "    .dataframe tbody tr th:only-of-type {\n",
       "        vertical-align: middle;\n",
       "    }\n",
       "\n",
       "    .dataframe tbody tr th {\n",
       "        vertical-align: top;\n",
       "    }\n",
       "\n",
       "    .dataframe thead th {\n",
       "        text-align: right;\n",
       "    }\n",
       "</style>\n",
       "<table border=\"1\" class=\"dataframe\">\n",
       "  <thead>\n",
       "    <tr style=\"text-align: right;\">\n",
       "      <th></th>\n",
       "      <th>id</th>\n",
       "      <th>v</th>\n",
       "      <th>hash</th>\n",
       "    </tr>\n",
       "  </thead>\n",
       "  <tbody>\n",
       "    <tr>\n",
       "      <th>0</th>\n",
       "      <td>X</td>\n",
       "      <td>1</td>\n",
       "      <td>80cbbbfbc5ba78bc178020dbef9a36d5</td>\n",
       "    </tr>\n",
       "    <tr>\n",
       "      <th>1</th>\n",
       "      <td>X</td>\n",
       "      <td>1</td>\n",
       "      <td>80cbbbfbc5ba78bc178020dbef9a36d5</td>\n",
       "    </tr>\n",
       "    <tr>\n",
       "      <th>2</th>\n",
       "      <td>X</td>\n",
       "      <td>2</td>\n",
       "      <td>757bde3e146d6e8e748909e603eff62f</td>\n",
       "    </tr>\n",
       "    <tr>\n",
       "      <th>3</th>\n",
       "      <td>Y</td>\n",
       "      <td>3</td>\n",
       "      <td>5f83aec22273fc6aa5203daf53f8c4aa</td>\n",
       "    </tr>\n",
       "  </tbody>\n",
       "</table>\n",
       "</div>"
      ],
      "text/plain": [
       "  id  v                              hash\n",
       "0  X  1  80cbbbfbc5ba78bc178020dbef9a36d5\n",
       "1  X  1  80cbbbfbc5ba78bc178020dbef9a36d5\n",
       "2  X  2  757bde3e146d6e8e748909e603eff62f\n",
       "3  Y  3  5f83aec22273fc6aa5203daf53f8c4aa"
      ]
     },
     "execution_count": 67,
     "metadata": {},
     "output_type": "execute_result"
    }
   ],
   "source": [
    "df"
   ]
  },
  {
   "cell_type": "code",
   "execution_count": null,
   "id": "d6e14ebc",
   "metadata": {},
   "outputs": [],
   "source": []
  }
 ],
 "metadata": {
  "kernelspec": {
   "display_name": ".venv",
   "language": "python",
   "name": "python3"
  },
  "language_info": {
   "codemirror_mode": {
    "name": "ipython",
    "version": 3
   },
   "file_extension": ".py",
   "mimetype": "text/x-python",
   "name": "python",
   "nbconvert_exporter": "python",
   "pygments_lexer": "ipython3",
   "version": "3.11.11"
  }
 },
 "nbformat": 4,
 "nbformat_minor": 5
}
